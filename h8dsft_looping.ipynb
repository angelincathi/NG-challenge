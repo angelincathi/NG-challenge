{
 "cells": [
  {
   "cell_type": "markdown",
   "id": "48bce62a",
   "metadata": {},
   "source": [
    "# h8dsft_looping\n",
    "## NG Challenge 1"
   ]
  },
  {
   "cell_type": "markdown",
   "id": "4138da41",
   "metadata": {},
   "source": [
    "---"
   ]
  },
  {
   "cell_type": "code",
   "execution_count": 25,
   "id": "408a8982",
   "metadata": {},
   "outputs": [],
   "source": [
    "numbers = [951, 402, 984, 651, 360, 69, 408, 319, 601, 485, 980, 507, 725, 547, 544, 615, 83, 165, 141, 501, 263, \n",
    "           617, 865, 575, 219, 390, 984, 592, 236, 105, 942, 941, 386, 462, 47, 418, 907, 344, 236, 375, 823, 566, \n",
    "           597, 978, 328, 615, 953, 345, 399, 162, 758, 219, 918, 237, 412, 566, 826, 248, 866, 950, 626, 949]"
   ]
  },
  {
   "cell_type": "markdown",
   "id": "128822cd",
   "metadata": {},
   "source": [
    "- Loop dan print semua angka genap dari list angka diatas dengan urutan yang sama. \n",
    "- Jangan mencetak angka apa pun yang muncul setelah angka 918.\n",
    "- Tampilkan pesan 'Done' setelah looping berakhir."
   ]
  },
  {
   "cell_type": "markdown",
   "id": "f8a03df1",
   "metadata": {},
   "source": [
    "### For Loop"
   ]
  },
  {
   "cell_type": "code",
   "execution_count": 33,
   "id": "ec8e5b89",
   "metadata": {},
   "outputs": [
    {
     "name": "stdout",
     "output_type": "stream",
     "text": [
      "[402, 984, 360, 408, 980, 544, 390, 984, 592, 236, 942, 386, 462, 418, 344, 236, 566, 978, 328, 162, 758]\n",
      "Done\n"
     ]
    }
   ],
   "source": [
    "hasil_loop_for = []\n",
    "for x in numbers:\n",
    "    if x != 918:\n",
    "        if x%2 == 0:\n",
    "            hasil_loop_for.append(x)\n",
    "    else :\n",
    "        print(hasil_loop_for)\n",
    "        print('Done')\n",
    "        break\n",
    "        "
   ]
  },
  {
   "cell_type": "markdown",
   "id": "e344cbca",
   "metadata": {},
   "source": [
    "### While Loop"
   ]
  },
  {
   "cell_type": "code",
   "execution_count": 34,
   "id": "616f72df",
   "metadata": {},
   "outputs": [
    {
     "name": "stdout",
     "output_type": "stream",
     "text": [
      "[402, 984, 360, 408, 980, 544, 390, 984, 592, 236, 942, 386, 462, 418, 344, 236, 566, 978, 328, 162, 758]\n",
      "Done\n"
     ]
    }
   ],
   "source": [
    "i = 0\n",
    "hasil_loop_while = []\n",
    "while numbers[i] != 918:\n",
    "    if i < len(numbers):\n",
    "        if numbers[i] % 2 == 0:\n",
    "            hasil_loop_while.append(numbers[i])\n",
    "    i += 1\n",
    "print(hasil_loop_while)\n",
    "print('Done')"
   ]
  },
  {
   "cell_type": "code",
   "execution_count": 35,
   "id": "ed9ce11e",
   "metadata": {},
   "outputs": [
    {
     "data": {
      "text/plain": [
       "True"
      ]
     },
     "execution_count": 35,
     "metadata": {},
     "output_type": "execute_result"
    }
   ],
   "source": [
    "#apakah hasil keduanya sama?\n",
    "hasil_loop_for == hasil_loop_while"
   ]
  }
 ],
 "metadata": {
  "kernelspec": {
   "display_name": "Python 3",
   "language": "python",
   "name": "python3"
  },
  "language_info": {
   "codemirror_mode": {
    "name": "ipython",
    "version": 3
   },
   "file_extension": ".py",
   "mimetype": "text/x-python",
   "name": "python",
   "nbconvert_exporter": "python",
   "pygments_lexer": "ipython3",
   "version": "3.8.8"
  }
 },
 "nbformat": 4,
 "nbformat_minor": 5
}
