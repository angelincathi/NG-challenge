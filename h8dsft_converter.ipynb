{
 "cells": [
  {
   "cell_type": "markdown",
   "id": "04649776",
   "metadata": {},
   "source": [
    "# h8dsft_converter\n",
    "## NG Challenge 2"
   ]
  },
  {
   "cell_type": "markdown",
   "id": "0aeaeec1",
   "metadata": {},
   "source": [
    "---"
   ]
  },
  {
   "cell_type": "markdown",
   "id": "39706990",
   "metadata": {},
   "source": [
    "- Buatlah sebuah function yang dapat mengkonversi suhu dari kelvin ke celcius, dan celcius ke kelvin.\n",
    "- Buatlah sebuah function yang dapat mengkonversi suhu ke fahrenheit. Tambahkan parameter untuk memastikan bahwa argumen yang dimasukan adalah celcius atau kelvin. Panggil function yang pertama jika diperlukan.\n",
    "- Buatlah sebuah function yang dapat mengkonversi suhu dari fahrenheit. Berikan argumen untuk memastikan bahwa outputnya dalah celcius atau kelvin.\n",
    "- Berikan dokumentasi pada setiap baris kode yang kalian tulis."
   ]
  },
  {
   "cell_type": "markdown",
   "id": "2aa9db40",
   "metadata": {},
   "source": [
    "## Kelvin to °Celcius  & °Celcius to Kelvin"
   ]
  },
  {
   "cell_type": "code",
   "execution_count": 48,
   "id": "9fcc8820",
   "metadata": {},
   "outputs": [
    {
     "name": "stdout",
     "output_type": "stream",
     "text": [
      "Masukkan suhu dalam Kelvin: 300\n",
      "Masukkan suhu dalam °Celcius: 127\n",
      "\n",
      "300.0 Kelvin adalah setara dengan 27.0 °Celcius\n",
      "127.0 °Celcius adalah setara dengan 400.0 Kelvin\n"
     ]
    }
   ],
   "source": [
    "suhu1 = float(input('Masukkan suhu dalam Kelvin: '))\n",
    "suhu2 = float(input('Masukkan suhu dalam °Celcius: '))\n",
    "\n",
    "def kc(suhu1):\n",
    "    'konversi dari Kelvin ke °Celcius'\n",
    "    kc = suhu1 - 273\n",
    "    return kc\n",
    "def ck (suhu2):\n",
    "    'konversi dari °Celcius ke Kelvin'\n",
    "    ck = suhu2 + 273\n",
    "    return ck\n",
    "\n",
    "print(f'\\n{suhu1}', 'Kelvin adalah setara dengan', kc(suhu1), '°Celcius')\n",
    "print(suhu2, '°Celcius adalah setara dengan', ck(suhu2), 'Kelvin')"
   ]
  },
  {
   "cell_type": "markdown",
   "id": "be3dd94a",
   "metadata": {},
   "source": [
    "## Kelvin or °Celcius to °Fahrenheit"
   ]
  },
  {
   "cell_type": "code",
   "execution_count": 49,
   "id": "5cadc2a0",
   "metadata": {},
   "outputs": [
    {
     "name": "stdout",
     "output_type": "stream",
     "text": [
      "Masukkan suhu dalam °Celcius atau Kelvin, contoh(20C atau 30K): 40k\n",
      "\n",
      "40.0 Kelvin adalah setara dengan -387.4 °Fahrenheit\n"
     ]
    }
   ],
   "source": [
    "suhu3 = input('Masukkan suhu dalam °Celcius atau Kelvin, contoh(20C atau 30K): ')\n",
    "suhu3_angka = float(suhu3[:-1])\n",
    "jenis = suhu3[-1]\n",
    "\n",
    "def fahr(konv):\n",
    "    'konversi ke suhu °Fahrenheit dari °Celcius'\n",
    "    fahr = (konv * 9/5) + 32\n",
    "    return fahr\n",
    "\n",
    "#identifikasi jenis suhu yang di-input oleh user\n",
    "if jenis.upper() == 'K':\n",
    "    konv = kc(suhu3_angka)\n",
    "    print(f'\\n{suhu3_angka}', 'Kelvin adalah setara dengan', fahr(konv), '°Fahrenheit')\n",
    "else:\n",
    "    konv = suhu3_angka\n",
    "    print(f'\\n{suhu3_angka}', '°Celcius adalah setara dengan', fahr(konv), '°Fahrenheit') \n",
    "    "
   ]
  },
  {
   "cell_type": "markdown",
   "id": "91fbf4be",
   "metadata": {},
   "source": [
    "## °Fahrenheit to °Celcius or Kelvin"
   ]
  },
  {
   "cell_type": "code",
   "execution_count": 50,
   "id": "5a476b38",
   "metadata": {},
   "outputs": [
    {
     "name": "stdout",
     "output_type": "stream",
     "text": [
      "Masukkan suhu dalam °Fahrenheit: 97\n",
      "\n",
      "97.0 °Fahrenheit adalah setara dengan 36.11 °Celcius dan 309.11 Kelvin\n"
     ]
    }
   ],
   "source": [
    "suhu4 = float(input('Masukkan suhu dalam °Fahrenheit: '))\n",
    "\n",
    "def from_fahr(suhu4):\n",
    "    'konversi dari suhu °fahrenheit ke °Celcius dengan pembulatan 2 angka'\n",
    "    celc = round((suhu4 - 32) * 5/9, 2)\n",
    "    'konversi dari suhu °fahrenheit ke Kelvin dengan pembulatan 2 angka'\n",
    "    kelv = round((suhu4 - 32) * 5/9 + 273, 2)\n",
    "    print(f'\\n{suhu4}', '°Fahrenheit adalah setara dengan', celc, '°Celcius dan', kelv, 'Kelvin')\n",
    "from_fahr(suhu4)\n"
   ]
  }
 ],
 "metadata": {
  "kernelspec": {
   "display_name": "Python 3",
   "language": "python",
   "name": "python3"
  },
  "language_info": {
   "codemirror_mode": {
    "name": "ipython",
    "version": 3
   },
   "file_extension": ".py",
   "mimetype": "text/x-python",
   "name": "python",
   "nbconvert_exporter": "python",
   "pygments_lexer": "ipython3",
   "version": "3.8.8"
  }
 },
 "nbformat": 4,
 "nbformat_minor": 5
}
